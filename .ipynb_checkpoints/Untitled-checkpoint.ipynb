{
 "cells": [
  {
   "cell_type": "code",
   "execution_count": 1,
   "id": "6ab9972f-9d9f-42fa-bd07-d919db947a13",
   "metadata": {},
   "outputs": [],
   "source": [
    "import streamlit as st\n",
    "import pandas as pd\n",
    "import numpy as np\n",
    "import seaborn as sns\n",
    "import numpy as np\n",
    "import matplotlib.pyplot as plt\n",
    "import altair as alt\n",
    "from sklearn.linear_model import LinearRegression\n",
    "from sklearn.model_selection import train_test_split\n",
    "from sklearn.preprocessing import StandardScaler"
   ]
  },
  {
   "cell_type": "markdown",
   "id": "ba16814d-102f-494d-9c81-ac44b1b8f1ec",
   "metadata": {},
   "source": [
    "# Care Sales Dataset"
   ]
  },
  {
   "cell_type": "code",
   "execution_count": 2,
   "id": "4983e6e3-7d65-4572-8c4d-b2f0144b0cbd",
   "metadata": {},
   "outputs": [],
   "source": [
    "df_carsales_raw= pd.read_csv('/Users/qianrongqian/.cache/kagglehub/datasets/gagandeep16/car-sales/versions/1/Car_sales.csv')\n",
    "df_carsales_select = df_carsales_raw[[\"Sales_in_thousands\", \"__year_resale_value\",\"Price_in_thousands\",\"Engine_size\",\"Horsepower\",\"Wheelbase\",\"Width\",\"Length\",\"Curb_weight\",\"Fuel_capacity\",\"Fuel_efficiency\",\"Power_perf_factor\"]]"
   ]
  },
  {
   "cell_type": "code",
   "execution_count": 25,
   "id": "b47836f1-c9a7-44a1-ae02-4b1858ffd045",
   "metadata": {},
   "outputs": [],
   "source": []
  },
  {
   "cell_type": "code",
   "execution_count": null,
   "id": "c800610d-44c6-4628-96b7-91f651cbe1a5",
   "metadata": {},
   "outputs": [],
   "source": [
    "sns"
   ]
  }
 ],
 "metadata": {
  "kernelspec": {
   "display_name": "Python 3 (ipykernel)",
   "language": "python",
   "name": "python3"
  },
  "language_info": {
   "codemirror_mode": {
    "name": "ipython",
    "version": 3
   },
   "file_extension": ".py",
   "mimetype": "text/x-python",
   "name": "python",
   "nbconvert_exporter": "python",
   "pygments_lexer": "ipython3",
   "version": "3.12.7"
  }
 },
 "nbformat": 4,
 "nbformat_minor": 5
}
